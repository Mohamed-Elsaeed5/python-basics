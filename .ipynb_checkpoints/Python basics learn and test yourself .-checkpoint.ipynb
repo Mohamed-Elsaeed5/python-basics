{
 "cells": [
  {
   "cell_type": "markdown",
   "id": "cf33e7b0",
   "metadata": {},
   "source": [
    "#  Python Tutorial"
   ]
  },
  {
   "cell_type": "markdown",
   "id": "8dc94b69",
   "metadata": {},
   "source": [
    "First,you need to know where you are"
   ]
  },
  {
   "cell_type": "code",
   "execution_count": null,
   "id": "f45e2b11",
   "metadata": {},
   "outputs": [],
   "source": [
    "pwd"
   ]
  },
  {
   "cell_type": "code",
   "execution_count": null,
   "id": "70740543",
   "metadata": {},
   "outputs": [],
   "source": [
    "cd"
   ]
  },
  {
   "cell_type": "markdown",
   "id": "2266de17",
   "metadata": {},
   "source": [
    "# Shortcuts"
   ]
  },
  {
   "cell_type": "markdown",
   "id": "570a79a6",
   "metadata": {},
   "source": [
    "You need to work faster"
   ]
  },
  {
   "cell_type": "markdown",
   "id": "4a718dd4",
   "metadata": {},
   "source": [
    "- (press Esc to enter Command Mode).\n",
    "- Enter: Enter Edit Mode (from Command Mode).\n",
    "- Shift + Enter: Run the current cell and move to the next one.\n",
    "- Ctrl + Enter: Run the current cell and stay at the current cell.\n",
    "- A: Insert a new cell above the current cell.\n",
    "- B: Insert a new cell below the current cell.\n",
    "- D, D (press D twice): Delete the current cell.\n",
    "- Y: Change the cell type to Code.\n",
    "- M: Change the cell type to Markdown.\n",
    "- C: Copy the current cell.\n",
    "- V: Paste a copied cell below the current cell.\n",
    "- Shift + V: Paste a copied cell above the current cell.\n",
    "- X: Cut the current cell.\n",
    "- Z: Undo cell deletion.\n",
    "- Shift + M: Merge selected cells.\n",
    "- Ctrl + Shift + select cell: to select them all \n",
    "- Shift + Tab: Show documentation (press once for basic information, twice for more details).\n",
    "- Ctrl + /: Comment or uncomment the selected lines.\n",
    "- Ctrl + ]: Indent the selected lines.\n",
    "- Ctrl + [ : Dedent the selected lines.\n",
    "- Tab: Code completion or indent.\n"
   ]
  },
  {
   "cell_type": "markdown",
   "id": "2fd191d4",
   "metadata": {},
   "source": [
    "You can access a full list of shortcuts by pressing H in Command Mode,"
   ]
  },
  {
   "cell_type": "markdown",
   "id": "7540978e",
   "metadata": {},
   "source": [
    "# Operaters "
   ]
  },
  {
   "cell_type": "code",
   "execution_count": null,
   "id": "68ea1046",
   "metadata": {},
   "outputs": [],
   "source": [
    "5+10"
   ]
  },
  {
   "cell_type": "code",
   "execution_count": null,
   "id": "43840f95",
   "metadata": {},
   "outputs": [],
   "source": [
    "x=5*10\n",
    "x"
   ]
  },
  {
   "cell_type": "code",
   "execution_count": null,
   "id": "40b36c00",
   "metadata": {},
   "outputs": [],
   "source": [
    "x=3+4\n",
    "x"
   ]
  },
  {
   "cell_type": "code",
   "execution_count": null,
   "id": "40d16b25",
   "metadata": {},
   "outputs": [],
   "source": [
    "#if you want to check the numver is even or odd \n",
    "# 0 = even\n",
    "# 1 = odd \n",
    "x = 10%2\n",
    "print(x)"
   ]
  },
  {
   "cell_type": "code",
   "execution_count": null,
   "id": "b9c5ffcd",
   "metadata": {},
   "outputs": [],
   "source": [
    "y = 11%2\n",
    "y"
   ]
  },
  {
   "cell_type": "code",
   "execution_count": null,
   "id": "9f562210",
   "metadata": {},
   "outputs": [],
   "source": [
    "z=10\n",
    "z= z**2\n",
    "z"
   ]
  },
  {
   "cell_type": "markdown",
   "id": "654e77c1",
   "metadata": {},
   "source": [
    "# Task1"
   ]
  },
  {
   "cell_type": "markdown",
   "id": "1355d42a",
   "metadata": {},
   "source": [
    "The result will be even or odd (5 times 8)divide by (5 plus 10)? "
   ]
  },
  {
   "cell_type": "code",
   "execution_count": null,
   "id": "64ba9abf",
   "metadata": {},
   "outputs": [],
   "source": []
  },
  {
   "cell_type": "markdown",
   "id": "efb1fffc",
   "metadata": {},
   "source": [
    "# print \n"
   ]
  },
  {
   "cell_type": "code",
   "execution_count": null,
   "id": "1215793b",
   "metadata": {},
   "outputs": [],
   "source": [
    "print('Mohamed Elsaeed')"
   ]
  },
  {
   "cell_type": "markdown",
   "id": "ac3dcc53",
   "metadata": {},
   "source": [
    "name = input('please enter your name')\n",
    "age = int(input('please enter your age'))\n",
    "#print \n",
    "print(f'your name is {name}, your age is {age}')"
   ]
  },
  {
   "cell_type": "code",
   "execution_count": null,
   "id": "7729f57f",
   "metadata": {},
   "outputs": [],
   "source": [
    "name = input('please enter your name')\n",
    "birth = int(input('please enter your birth'))\n",
    "age = 2024-birth\n",
    "#print \n",
    "print(f'your name is {name}, your age is {age}')"
   ]
  },
  {
   "cell_type": "code",
   "execution_count": null,
   "id": "8c984c45",
   "metadata": {},
   "outputs": [],
   "source": [
    "#we used int cause the output of input is string \n",
    "#in birth we cant substract number from string \n",
    "#let check name type\n",
    "type(name)\n",
    "#str "
   ]
  },
  {
   "cell_type": "markdown",
   "id": "19cdc51e",
   "metadata": {},
   "source": [
    "# Task 2"
   ]
  },
  {
   "cell_type": "markdown",
   "id": "e690d898",
   "metadata": {},
   "source": [
    "can you ask user for his name and his phone and print it ?"
   ]
  },
  {
   "cell_type": "code",
   "execution_count": null,
   "id": "1aa25668",
   "metadata": {},
   "outputs": [],
   "source": []
  },
  {
   "cell_type": "markdown",
   "id": "c9052dbe",
   "metadata": {},
   "source": [
    "# Index & slicing"
   ]
  },
  {
   "cell_type": "code",
   "execution_count": null,
   "id": "26537d65",
   "metadata": {},
   "outputs": [],
   "source": [
    "name = 'Hello Alex'\n",
    "name[0]"
   ]
  },
  {
   "cell_type": "code",
   "execution_count": null,
   "id": "feded715",
   "metadata": {},
   "outputs": [],
   "source": [
    "#get string or list length\n",
    "len(name)"
   ]
  },
  {
   "cell_type": "code",
   "execution_count": null,
   "id": "375ef077",
   "metadata": {},
   "outputs": [],
   "source": [
    "hi = name[0:5]\n",
    "hi"
   ]
  },
  {
   "cell_type": "code",
   "execution_count": null,
   "id": "5338b28a",
   "metadata": {},
   "outputs": [],
   "source": [
    "Alex = name[6:]\n",
    "Alex"
   ]
  },
  {
   "cell_type": "code",
   "execution_count": null,
   "id": "1f7b63f9",
   "metadata": {},
   "outputs": [],
   "source": [
    "index[]\n",
    "even_st = name[0:1000:2]\n",
    "even_st"
   ]
  },
  {
   "cell_type": "code",
   "execution_count": null,
   "id": "9012ec60",
   "metadata": {},
   "outputs": [],
   "source": [
    "#reverse indexing\n",
    "reversed_name = name[::-1]\n",
    "reversed_name"
   ]
  },
  {
   "cell_type": "markdown",
   "id": "4920430b",
   "metadata": {},
   "source": [
    "# Task 3"
   ]
  },
  {
   "cell_type": "markdown",
   "id": "ed106c2f",
   "metadata": {},
   "source": [
    "Can you print Hello Saeed and extract print out (ee)"
   ]
  },
  {
   "cell_type": "code",
   "execution_count": null,
   "id": "00bb8bc9",
   "metadata": {},
   "outputs": [],
   "source": [
    "my_name='Hello Saeed'"
   ]
  },
  {
   "cell_type": "code",
   "execution_count": null,
   "id": "afd4d931",
   "metadata": {},
   "outputs": [],
   "source": []
  },
  {
   "cell_type": "markdown",
   "id": "3b2e0d66",
   "metadata": {},
   "source": [
    "# Difference between (lists,dict,tuples,sets)"
   ]
  },
  {
   "cell_type": "markdown",
   "id": "331095cb",
   "metadata": {},
   "source": [
    "-Lists are ordered and mutable(i can edit them).\n",
    "-Dictionaries are unordered and mutable, storing key-value pairs.\n",
    "-Sets are unordered and mutable, containing unique elements.\n",
    "-Tuples are ordered and immutable(i cant edit them)."
   ]
  },
  {
   "cell_type": "markdown",
   "id": "db25c8d7",
   "metadata": {},
   "source": [
    "# Lists "
   ]
  },
  {
   "cell_type": "code",
   "execution_count": null,
   "id": "edbc0168",
   "metadata": {},
   "outputs": [],
   "source": [
    "my_list = [1,2,3,4,5,6]\n",
    "my_list.append(7)\n",
    "my_list"
   ]
  },
  {
   "cell_type": "code",
   "execution_count": null,
   "id": "3dc044f8",
   "metadata": {},
   "outputs": [],
   "source": [
    "my_list.insert(3,'Ahmed')\n",
    "my_list\n"
   ]
  },
  {
   "cell_type": "code",
   "execution_count": null,
   "id": "970c7cc8",
   "metadata": {},
   "outputs": [],
   "source": [
    "my_list.remove('Ahmed')\n",
    "my_list"
   ]
  },
  {
   "cell_type": "code",
   "execution_count": null,
   "id": "a27a623c",
   "metadata": {},
   "outputs": [],
   "source": [
    "list1 = [1, 2, 3]\n",
    "list2 = [4, 5, 6]\n",
    "\n",
    "list1.extend(list2)\n",
    "\n",
    "print(list1)  # Output: [1, 2, 3, 4, 5, 6]\n"
   ]
  },
  {
   "cell_type": "code",
   "execution_count": null,
   "id": "66fa798b",
   "metadata": {},
   "outputs": [],
   "source": [
    "list3 = list1+list2\n",
    "list3"
   ]
  },
  {
   "cell_type": "code",
   "execution_count": null,
   "id": "0c4c3efc",
   "metadata": {},
   "outputs": [],
   "source": [
    "x= 'mohamed' +' '+'elsaeed'\n",
    "x"
   ]
  },
  {
   "cell_type": "code",
   "execution_count": null,
   "id": "3d1cee59",
   "metadata": {},
   "outputs": [],
   "source": [
    "my_list.pop(1)\n",
    "my_list[0]=1\n",
    "my_list"
   ]
  },
  {
   "cell_type": "markdown",
   "id": "85ea2480",
   "metadata": {},
   "source": [
    "# Task 4 "
   ]
  },
  {
   "cell_type": "markdown",
   "id": "24918661",
   "metadata": {},
   "source": [
    "Now replace hello in list3 by goodbye then delete 2 from list"
   ]
  },
  {
   "cell_type": "code",
   "execution_count": null,
   "id": "a9a2b422",
   "metadata": {},
   "outputs": [],
   "source": [
    "list3 = [1,2,[3,4,'hello']]"
   ]
  },
  {
   "cell_type": "code",
   "execution_count": null,
   "id": "fd854cd3",
   "metadata": {},
   "outputs": [],
   "source": []
  },
  {
   "cell_type": "code",
   "execution_count": null,
   "id": "1e15e093",
   "metadata": {},
   "outputs": [],
   "source": []
  },
  {
   "cell_type": "markdown",
   "id": "4585b8b4",
   "metadata": {},
   "source": [
    "# Dictionaries"
   ]
  },
  {
   "cell_type": "code",
   "execution_count": null,
   "id": "a12902ea",
   "metadata": {},
   "outputs": [],
   "source": [
    "#imagine i have products with these prices how to get price with key ?\n",
    "prices = {'apple':100,'banna':150,'choclate':200,'list':[100,150,200]}\n",
    "prices['choclate']"
   ]
  },
  {
   "cell_type": "code",
   "execution_count": null,
   "id": "4d319d92",
   "metadata": {},
   "outputs": [],
   "source": [
    "prices['list'][0]"
   ]
  },
  {
   "cell_type": "markdown",
   "id": "dfc49b31",
   "metadata": {},
   "source": [
    "# Tuples "
   ]
  },
  {
   "cell_type": "code",
   "execution_count": null,
   "id": "f90af6c1",
   "metadata": {},
   "outputs": [],
   "source": [
    "# Tuple example\n",
    "my_tuple = (1, 2, 3, 4, 5)\n",
    "\n",
    "# Attempting to modify a tuple (invalid - will raise an error)\n",
    "# my_tuple[0] = 10  # This line will raise a TypeError\n",
    "\n",
    "# Accessing elements in both list and tuple\n",
    "print(my_tuple[0]) # Output: 1"
   ]
  },
  {
   "cell_type": "markdown",
   "id": "0b5cc44a",
   "metadata": {},
   "source": [
    "# sets"
   ]
  },
  {
   "cell_type": "code",
   "execution_count": null,
   "id": "eea07091",
   "metadata": {},
   "outputs": [],
   "source": [
    "#sets gives only unique values (no dublicates)\n",
    "my_set = {3, 1, 4, 1, 5, 9, 2, 6, 5}\n",
    "\n",
    "sorted_set = sorted(my_set, reverse=True)\n",
    "print(sorted_set)  \n"
   ]
  },
  {
   "cell_type": "markdown",
   "id": "b81881e2",
   "metadata": {},
   "source": [
    "# Task 5"
   ]
  },
  {
   "cell_type": "markdown",
   "id": "784e1ae7",
   "metadata": {},
   "source": [
    "Grab hello"
   ]
  },
  {
   "cell_type": "code",
   "execution_count": null,
   "id": "1409bc23",
   "metadata": {},
   "outputs": [],
   "source": [
    "d = {'k1':{'k2':'hello'}}"
   ]
  },
  {
   "cell_type": "markdown",
   "id": "3bd149cd",
   "metadata": {},
   "source": [
    "# If"
   ]
  },
  {
   "cell_type": "code",
   "execution_count": null,
   "id": "d12223fd",
   "metadata": {},
   "outputs": [],
   "source": [
    "name = input('please enter your name: ')\n",
    "if name == 'saeed':\n",
    "    print('your name is first name in the list ')\n",
    "elif name =='Ahmed':\n",
    "    print('Your name in second name in the list ')\n",
    "else:\n",
    "    print('your are not in the list ')"
   ]
  },
  {
   "cell_type": "markdown",
   "id": "a71b6d01",
   "metadata": {},
   "source": [
    "# For"
   ]
  },
  {
   "cell_type": "markdown",
   "id": "d7c0dafe",
   "metadata": {},
   "source": [
    "we can create list using for"
   ]
  },
  {
   "cell_type": "code",
   "execution_count": null,
   "id": "9c9d8dfe",
   "metadata": {},
   "outputs": [],
   "source": [
    "#this is list for numbrs from 0 to 51 divisable by 3 \n",
    "[x for x in range(0,51,3)]"
   ]
  },
  {
   "cell_type": "code",
   "execution_count": null,
   "id": "be750079",
   "metadata": {},
   "outputs": [],
   "source": [
    "my_list = [x for x in 'hello']\n",
    "my_list"
   ]
  },
  {
   "cell_type": "markdown",
   "id": "f9b7350a",
   "metadata": {},
   "source": [
    "# lets try if and for together"
   ]
  },
  {
   "cell_type": "markdown",
   "id": "fb50e1a6",
   "metadata": {},
   "source": [
    "**Write a program that prints the integers from 1 to 100. But for multiples of three print \"three\" instead of the number, and for the multiples of five print \"five\". For numbers which are multiples of both three and five print \"threefive\".**"
   ]
  },
  {
   "cell_type": "code",
   "execution_count": null,
   "id": "ac33d87d",
   "metadata": {},
   "outputs": [],
   "source": [
    "for x in range(1,101):\n",
    "    if x % 3 == 0 and x % 5 ==0:\n",
    "        print(\"threefive\")\n",
    "    elif x % 3 ==0 :\n",
    "        print('three')\n",
    "    elif x % 5 ==0 :\n",
    "        print('five')\n",
    "    else:\n",
    "        print(x)"
   ]
  },
  {
   "cell_type": "markdown",
   "id": "de5b5d4c",
   "metadata": {},
   "source": [
    "## Think why we write (if x % 3 == 0 and x % 5 ==0:)  in first not in the last ????!!"
   ]
  },
  {
   "cell_type": "markdown",
   "id": "f2c29cb6",
   "metadata": {},
   "source": [
    "# Task 6"
   ]
  },
  {
   "cell_type": "markdown",
   "id": "c2d841f6",
   "metadata": {},
   "source": [
    "make a list of random numbers and then spilt it to even list and to odd list \n",
    "\n",
    "-Hint: you need empty lists at first"
   ]
  },
  {
   "cell_type": "code",
   "execution_count": null,
   "id": "323e7fdc",
   "metadata": {},
   "outputs": [],
   "source": []
  },
  {
   "cell_type": "markdown",
   "id": "596f6993",
   "metadata": {},
   "source": [
    "# while "
   ]
  },
  {
   "cell_type": "markdown",
   "id": "442357fe",
   "metadata": {},
   "source": [
    "- Lets make a code ask a user for id & pw and if its wrong it will keep asking \n",
    "- while is like for but with condition"
   ]
  },
  {
   "cell_type": "code",
   "execution_count": null,
   "id": "48a153e0",
   "metadata": {},
   "outputs": [],
   "source": [
    "correct_id = \"user123\"\n",
    "correct_password = \"password123\"\n",
    "\n",
    "# Ask the user for ID and password\n",
    "while True:\n",
    "    user_id = input(\"Enter your ID: \")\n",
    "    password = input(\"Enter your password: \")\n",
    "\n",
    "    # Check if the entered ID and password are correct\n",
    "    if user_id == correct_id and password == correct_password:\n",
    "        print(\"Login successful!\")\n",
    "        break  # Exit the loop if login is successful\n",
    "    else:\n",
    "        print(\"Invalid ID or password. Please try again.\")\n"
   ]
  },
  {
   "cell_type": "code",
   "execution_count": null,
   "id": "6d2eb3f1",
   "metadata": {},
   "outputs": [],
   "source": [
    "x=0\n",
    "while x<5:\n",
    "    print(f'the current value now is {x}')\n",
    "    x=x+1\n",
    "else:\n",
    "    print('the current value is more than 5')"
   ]
  },
  {
   "cell_type": "markdown",
   "id": "e3222d54",
   "metadata": {},
   "source": [
    "# Functions"
   ]
  },
  {
   "cell_type": "markdown",
   "id": "7a9e5cff",
   "metadata": {},
   "source": [
    "we make function to solve a certin problem lets see"
   ]
  },
  {
   "cell_type": "code",
   "execution_count": null,
   "id": "7c6ced4d",
   "metadata": {},
   "outputs": [],
   "source": [
    "# function without parameters\n",
    "\n",
    "def greet():\n",
    "    return \"Hello, world!\"\n",
    "\n",
    "# Calling the function\n",
    "print(greet())  \n"
   ]
  },
  {
   "cell_type": "code",
   "execution_count": null,
   "id": "57333224",
   "metadata": {},
   "outputs": [],
   "source": [
    "# function with parameters\n",
    "# fuction to power number with other\n",
    "# x is the number y is the power\n",
    "def power(x, y):\n",
    "    return x ** y\n",
    "\n",
    "power(8,3)"
   ]
  },
  {
   "cell_type": "code",
   "execution_count": null,
   "id": "0952433d",
   "metadata": {},
   "outputs": [],
   "source": [
    "#function with default output .\n",
    "# if i didnt enter name it will print Guest\n",
    "def greet(name=\"Guest\"):\n",
    "    return f\"Hello, {name}!\"\n",
    "\n",
    "# Calling the function without providing an argument\n",
    "print(greet())  # Output: Hello, Guest!\n",
    "\n",
    "# Calling the function with an argument\n",
    "print(greet(\"Alice\"))  # Output: Hello, Alice!"
   ]
  },
  {
   "cell_type": "markdown",
   "id": "fa0e9f59",
   "metadata": {},
   "source": [
    "# you need more practice this is just a start ,Thank you"
   ]
  },
  {
   "cell_type": "markdown",
   "id": "8bc98f2c",
   "metadata": {},
   "source": [
    "## Eng:Mohamed Elsaeed"
   ]
  }
 ],
 "metadata": {
  "kernelspec": {
   "display_name": "Python 3 (ipykernel)",
   "language": "python",
   "name": "python3"
  },
  "language_info": {
   "codemirror_mode": {
    "name": "ipython",
    "version": 3
   },
   "file_extension": ".py",
   "mimetype": "text/x-python",
   "name": "python",
   "nbconvert_exporter": "python",
   "pygments_lexer": "ipython3",
   "version": "3.11.5"
  }
 },
 "nbformat": 4,
 "nbformat_minor": 5
}
